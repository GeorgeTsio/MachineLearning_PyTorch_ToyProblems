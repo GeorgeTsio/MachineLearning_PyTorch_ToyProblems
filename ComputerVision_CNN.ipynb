{
  "nbformat": 4,
  "nbformat_minor": 0,
  "metadata": {
    "colab": {
      "provenance": [],
      "authorship_tag": "ABX9TyPgFAz5FVXSF2F1KtoV6AKm",
      "include_colab_link": true
    },
    "kernelspec": {
      "name": "python3",
      "display_name": "Python 3"
    },
    "language_info": {
      "name": "python"
    },
    "widgets": {
      "application/vnd.jupyter.widget-state+json": {
        "133127d4b65a461e86df18a412561993": {
          "model_module": "@jupyter-widgets/controls",
          "model_name": "HBoxModel",
          "model_module_version": "1.5.0",
          "state": {
            "_dom_classes": [],
            "_model_module": "@jupyter-widgets/controls",
            "_model_module_version": "1.5.0",
            "_model_name": "HBoxModel",
            "_view_count": null,
            "_view_module": "@jupyter-widgets/controls",
            "_view_module_version": "1.5.0",
            "_view_name": "HBoxView",
            "box_style": "",
            "children": [
              "IPY_MODEL_8024a180764c45a9a1c8e926154f4509",
              "IPY_MODEL_3d2d1e873005487e82a27c6626c22945",
              "IPY_MODEL_41eb6a0c07bb42aebf0860f33600f8a5"
            ],
            "layout": "IPY_MODEL_ab1d9df10217447c8a23c08bf548945b"
          }
        },
        "8024a180764c45a9a1c8e926154f4509": {
          "model_module": "@jupyter-widgets/controls",
          "model_name": "HTMLModel",
          "model_module_version": "1.5.0",
          "state": {
            "_dom_classes": [],
            "_model_module": "@jupyter-widgets/controls",
            "_model_module_version": "1.5.0",
            "_model_name": "HTMLModel",
            "_view_count": null,
            "_view_module": "@jupyter-widgets/controls",
            "_view_module_version": "1.5.0",
            "_view_name": "HTMLView",
            "description": "",
            "description_tooltip": null,
            "layout": "IPY_MODEL_607d9e739a5c4892915770053f20b5e8",
            "placeholder": "​",
            "style": "IPY_MODEL_a1cb2157ef714d70929bec893159f69e",
            "value": "100%"
          }
        },
        "3d2d1e873005487e82a27c6626c22945": {
          "model_module": "@jupyter-widgets/controls",
          "model_name": "FloatProgressModel",
          "model_module_version": "1.5.0",
          "state": {
            "_dom_classes": [],
            "_model_module": "@jupyter-widgets/controls",
            "_model_module_version": "1.5.0",
            "_model_name": "FloatProgressModel",
            "_view_count": null,
            "_view_module": "@jupyter-widgets/controls",
            "_view_module_version": "1.5.0",
            "_view_name": "ProgressView",
            "bar_style": "success",
            "description": "",
            "description_tooltip": null,
            "layout": "IPY_MODEL_b8ba6917411c4eaa8b0eb72396839047",
            "max": 3,
            "min": 0,
            "orientation": "horizontal",
            "style": "IPY_MODEL_95e60726220948d7a5a9d603ff89d285",
            "value": 3
          }
        },
        "41eb6a0c07bb42aebf0860f33600f8a5": {
          "model_module": "@jupyter-widgets/controls",
          "model_name": "HTMLModel",
          "model_module_version": "1.5.0",
          "state": {
            "_dom_classes": [],
            "_model_module": "@jupyter-widgets/controls",
            "_model_module_version": "1.5.0",
            "_model_name": "HTMLModel",
            "_view_count": null,
            "_view_module": "@jupyter-widgets/controls",
            "_view_module_version": "1.5.0",
            "_view_name": "HTMLView",
            "description": "",
            "description_tooltip": null,
            "layout": "IPY_MODEL_8d05100a55fe4b34994072515f8a9a4f",
            "placeholder": "​",
            "style": "IPY_MODEL_997bc4d4f22f4bb8acd3dbfd2d8b1929",
            "value": " 3/3 [02:55&lt;00:00, 58.37s/it]"
          }
        },
        "ab1d9df10217447c8a23c08bf548945b": {
          "model_module": "@jupyter-widgets/base",
          "model_name": "LayoutModel",
          "model_module_version": "1.2.0",
          "state": {
            "_model_module": "@jupyter-widgets/base",
            "_model_module_version": "1.2.0",
            "_model_name": "LayoutModel",
            "_view_count": null,
            "_view_module": "@jupyter-widgets/base",
            "_view_module_version": "1.2.0",
            "_view_name": "LayoutView",
            "align_content": null,
            "align_items": null,
            "align_self": null,
            "border": null,
            "bottom": null,
            "display": null,
            "flex": null,
            "flex_flow": null,
            "grid_area": null,
            "grid_auto_columns": null,
            "grid_auto_flow": null,
            "grid_auto_rows": null,
            "grid_column": null,
            "grid_gap": null,
            "grid_row": null,
            "grid_template_areas": null,
            "grid_template_columns": null,
            "grid_template_rows": null,
            "height": null,
            "justify_content": null,
            "justify_items": null,
            "left": null,
            "margin": null,
            "max_height": null,
            "max_width": null,
            "min_height": null,
            "min_width": null,
            "object_fit": null,
            "object_position": null,
            "order": null,
            "overflow": null,
            "overflow_x": null,
            "overflow_y": null,
            "padding": null,
            "right": null,
            "top": null,
            "visibility": null,
            "width": null
          }
        },
        "607d9e739a5c4892915770053f20b5e8": {
          "model_module": "@jupyter-widgets/base",
          "model_name": "LayoutModel",
          "model_module_version": "1.2.0",
          "state": {
            "_model_module": "@jupyter-widgets/base",
            "_model_module_version": "1.2.0",
            "_model_name": "LayoutModel",
            "_view_count": null,
            "_view_module": "@jupyter-widgets/base",
            "_view_module_version": "1.2.0",
            "_view_name": "LayoutView",
            "align_content": null,
            "align_items": null,
            "align_self": null,
            "border": null,
            "bottom": null,
            "display": null,
            "flex": null,
            "flex_flow": null,
            "grid_area": null,
            "grid_auto_columns": null,
            "grid_auto_flow": null,
            "grid_auto_rows": null,
            "grid_column": null,
            "grid_gap": null,
            "grid_row": null,
            "grid_template_areas": null,
            "grid_template_columns": null,
            "grid_template_rows": null,
            "height": null,
            "justify_content": null,
            "justify_items": null,
            "left": null,
            "margin": null,
            "max_height": null,
            "max_width": null,
            "min_height": null,
            "min_width": null,
            "object_fit": null,
            "object_position": null,
            "order": null,
            "overflow": null,
            "overflow_x": null,
            "overflow_y": null,
            "padding": null,
            "right": null,
            "top": null,
            "visibility": null,
            "width": null
          }
        },
        "a1cb2157ef714d70929bec893159f69e": {
          "model_module": "@jupyter-widgets/controls",
          "model_name": "DescriptionStyleModel",
          "model_module_version": "1.5.0",
          "state": {
            "_model_module": "@jupyter-widgets/controls",
            "_model_module_version": "1.5.0",
            "_model_name": "DescriptionStyleModel",
            "_view_count": null,
            "_view_module": "@jupyter-widgets/base",
            "_view_module_version": "1.2.0",
            "_view_name": "StyleView",
            "description_width": ""
          }
        },
        "b8ba6917411c4eaa8b0eb72396839047": {
          "model_module": "@jupyter-widgets/base",
          "model_name": "LayoutModel",
          "model_module_version": "1.2.0",
          "state": {
            "_model_module": "@jupyter-widgets/base",
            "_model_module_version": "1.2.0",
            "_model_name": "LayoutModel",
            "_view_count": null,
            "_view_module": "@jupyter-widgets/base",
            "_view_module_version": "1.2.0",
            "_view_name": "LayoutView",
            "align_content": null,
            "align_items": null,
            "align_self": null,
            "border": null,
            "bottom": null,
            "display": null,
            "flex": null,
            "flex_flow": null,
            "grid_area": null,
            "grid_auto_columns": null,
            "grid_auto_flow": null,
            "grid_auto_rows": null,
            "grid_column": null,
            "grid_gap": null,
            "grid_row": null,
            "grid_template_areas": null,
            "grid_template_columns": null,
            "grid_template_rows": null,
            "height": null,
            "justify_content": null,
            "justify_items": null,
            "left": null,
            "margin": null,
            "max_height": null,
            "max_width": null,
            "min_height": null,
            "min_width": null,
            "object_fit": null,
            "object_position": null,
            "order": null,
            "overflow": null,
            "overflow_x": null,
            "overflow_y": null,
            "padding": null,
            "right": null,
            "top": null,
            "visibility": null,
            "width": null
          }
        },
        "95e60726220948d7a5a9d603ff89d285": {
          "model_module": "@jupyter-widgets/controls",
          "model_name": "ProgressStyleModel",
          "model_module_version": "1.5.0",
          "state": {
            "_model_module": "@jupyter-widgets/controls",
            "_model_module_version": "1.5.0",
            "_model_name": "ProgressStyleModel",
            "_view_count": null,
            "_view_module": "@jupyter-widgets/base",
            "_view_module_version": "1.2.0",
            "_view_name": "StyleView",
            "bar_color": null,
            "description_width": ""
          }
        },
        "8d05100a55fe4b34994072515f8a9a4f": {
          "model_module": "@jupyter-widgets/base",
          "model_name": "LayoutModel",
          "model_module_version": "1.2.0",
          "state": {
            "_model_module": "@jupyter-widgets/base",
            "_model_module_version": "1.2.0",
            "_model_name": "LayoutModel",
            "_view_count": null,
            "_view_module": "@jupyter-widgets/base",
            "_view_module_version": "1.2.0",
            "_view_name": "LayoutView",
            "align_content": null,
            "align_items": null,
            "align_self": null,
            "border": null,
            "bottom": null,
            "display": null,
            "flex": null,
            "flex_flow": null,
            "grid_area": null,
            "grid_auto_columns": null,
            "grid_auto_flow": null,
            "grid_auto_rows": null,
            "grid_column": null,
            "grid_gap": null,
            "grid_row": null,
            "grid_template_areas": null,
            "grid_template_columns": null,
            "grid_template_rows": null,
            "height": null,
            "justify_content": null,
            "justify_items": null,
            "left": null,
            "margin": null,
            "max_height": null,
            "max_width": null,
            "min_height": null,
            "min_width": null,
            "object_fit": null,
            "object_position": null,
            "order": null,
            "overflow": null,
            "overflow_x": null,
            "overflow_y": null,
            "padding": null,
            "right": null,
            "top": null,
            "visibility": null,
            "width": null
          }
        },
        "997bc4d4f22f4bb8acd3dbfd2d8b1929": {
          "model_module": "@jupyter-widgets/controls",
          "model_name": "DescriptionStyleModel",
          "model_module_version": "1.5.0",
          "state": {
            "_model_module": "@jupyter-widgets/controls",
            "_model_module_version": "1.5.0",
            "_model_name": "DescriptionStyleModel",
            "_view_count": null,
            "_view_module": "@jupyter-widgets/base",
            "_view_module_version": "1.2.0",
            "_view_name": "StyleView",
            "description_width": ""
          }
        }
      }
    }
  },
  "cells": [
    {
      "cell_type": "markdown",
      "metadata": {
        "id": "view-in-github",
        "colab_type": "text"
      },
      "source": [
        "<a href=\"https://colab.research.google.com/github/GeorgeTsio/MachineLearning_ToyProblems/blob/main/ComputerVision_CNN.ipynb\" target=\"_parent\"><img src=\"https://colab.research.google.com/assets/colab-badge.svg\" alt=\"Open In Colab\"/></a>"
      ]
    },
    {
      "cell_type": "markdown",
      "source": [
        "###0. Load the libraries and set device agnostic code"
      ],
      "metadata": {
        "id": "x-XYA9upalU4"
      }
    },
    {
      "cell_type": "code",
      "execution_count": 12,
      "metadata": {
        "colab": {
          "base_uri": "https://localhost:8080/"
        },
        "id": "5wVHeFXIYNJW",
        "outputId": "de9c59b5-8a3d-4e2e-b502-fc7533afe6c3"
      },
      "outputs": [
        {
          "output_type": "stream",
          "name": "stdout",
          "text": [
            "2.1.0+cu118\n",
            "0.16.0+cu118\n"
          ]
        }
      ],
      "source": [
        "import torch\n",
        "from torch import nn\n",
        "\n",
        "import torchvision\n",
        "from torchvision import datasets\n",
        "from torchvision import transforms\n",
        "from torchvision.transforms import ToTensor\n",
        "\n",
        "from torch.utils.data import DataLoader\n",
        "from tqdm.auto import tqdm\n",
        "import random\n",
        "\n",
        "import matplotlib.pyplot as plt\n",
        "\n",
        "print(torch.__version__)\n",
        "print(torchvision.__version__)\n",
        "\n",
        "device = \"cuda\" if torch.cuda.is_available() else \"cpu\""
      ]
    },
    {
      "cell_type": "markdown",
      "source": [
        "###1. Getting the dataset"
      ],
      "metadata": {
        "id": "5kKp1Y8madQe"
      }
    },
    {
      "cell_type": "code",
      "source": [
        "train_data = datasets.MNIST(\n",
        "    root=\"data\", # Where to download data to\n",
        "    train=True, # Select the train dataset\n",
        "    download=True, # Download it\n",
        "    transform=torchvision.transforms.ToTensor(), # transform to Tensors\n",
        "    target_transform=None\n",
        ")\n",
        "\n",
        "test_data = datasets.MNIST(\n",
        "    root=\"data\",\n",
        "    train=False,\n",
        "    download=True,\n",
        "    transform=torchvision.transforms.ToTensor(),\n",
        "    target_transform=None\n",
        ")"
      ],
      "metadata": {
        "id": "PR-iasHWa2fq"
      },
      "execution_count": 13,
      "outputs": []
    },
    {
      "cell_type": "code",
      "source": [
        "print(f\"The length of train data is: {len(train_data)}\")\n",
        "print(f\"The length of test data is: {len(test_data)}\")\n",
        "print(f\"The labels of our data?: {train_data.class_to_idx}\")"
      ],
      "metadata": {
        "colab": {
          "base_uri": "https://localhost:8080/"
        },
        "id": "lSGveqamcUIC",
        "outputId": "623556f1-d127-4bd6-c053-634bbf772927"
      },
      "execution_count": 14,
      "outputs": [
        {
          "output_type": "stream",
          "name": "stdout",
          "text": [
            "The length of train data is: 60000\n",
            "The length of test data is: 10000\n",
            "The labels of our data?: {'0 - zero': 0, '1 - one': 1, '2 - two': 2, '3 - three': 3, '4 - four': 4, '5 - five': 5, '6 - six': 6, '7 - seven': 7, '8 - eight': 8, '9 - nine': 9}\n"
          ]
        }
      ]
    },
    {
      "cell_type": "markdown",
      "source": [
        "###2. Visualize the dataset"
      ],
      "metadata": {
        "id": "CU-Nn4y3b8Dy"
      }
    },
    {
      "cell_type": "code",
      "source": [
        "# Let's visualize randomly some of our data\n",
        "\n",
        "fig = plt.figure(figsize=(9, 9))\n",
        "rows, cols = 4, 4\n",
        "for i in range(1, rows*cols+1):\n",
        "  random_idx = torch.randint(0, len(train_data), size=[1]).item()\n",
        "  img, label = train_data[random_idx]\n",
        "  fig.add_subplot(rows, cols, i)\n",
        "  plt.imshow(img.squeeze(), cmap=\"gray\")\n",
        "  plt.title(train_data.classes[label])\n",
        "  plt.axis(False)"
      ],
      "metadata": {
        "colab": {
          "base_uri": "https://localhost:8080/",
          "height": 752
        },
        "id": "z9-DSgllcGLk",
        "outputId": "33066e80-f34a-462e-c4fd-c5ded4f65dfb"
      },
      "execution_count": 15,
      "outputs": [
        {
          "output_type": "display_data",
          "data": {
            "text/plain": [
              "<Figure size 900x900 with 16 Axes>"
            ],
            "image/png": "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\n"
          },
          "metadata": {}
        }
      ]
    },
    {
      "cell_type": "markdown",
      "source": [
        "###3. Turn the MNIST train and test dasets into dataloaders\n",
        "\n",
        "Right now, our data is in the form of PyTorch Datasets\n",
        "\n",
        "DataLoader turns our dataset into a Python iterable\n",
        "\n",
        "More specifically, we want to turn our data into batches (or mini-batches).\n",
        "\n",
        "Why would we do this?\n",
        "\n",
        "1. It is more computationally efficient, as in, your computing hardware may not be able to look (store in memory) at 60000 images in one hit. So we break it down to 32 images at a time (batch size of 32).\n",
        "\n",
        "2. It gives our neural network more chances to update its gradients per epoch."
      ],
      "metadata": {
        "id": "QbK1BPr9gB9f"
      }
    },
    {
      "cell_type": "code",
      "source": [
        "BATCH_SIZE = 32\n",
        "\n",
        "train_dataloader = DataLoader(dataset=train_data,\n",
        "                              batch_size=BATCH_SIZE,\n",
        "                              shuffle=True) # In each row of our dataset there is only one object, they are sorted\n",
        "\n",
        "test_dataloader = DataLoader(dataset=test_data,\n",
        "                             batch_size=BATCH_SIZE,\n",
        "                             shuffle=False) # Order doesn't matter here\n",
        "\n",
        "\n",
        "# Let's check out what happened\n",
        "print(f\"DataLoaders: {train_dataloader, test_dataloader}\")\n",
        "print(f\"Length of train_dataloader: {len(train_dataloader)} batches of {BATCH_SIZE}\")   # 60000/32 = 1875\n",
        "print(f\"Length of test_dataloader: {len(test_dataloader)} batches of {BATCH_SIZE}\")     # 10000/32 = 313"
      ],
      "metadata": {
        "colab": {
          "base_uri": "https://localhost:8080/"
        },
        "id": "V8El5H_PgQBv",
        "outputId": "fc5894bc-475e-4af4-91a7-4fb9936c9a24"
      },
      "execution_count": 16,
      "outputs": [
        {
          "output_type": "stream",
          "name": "stdout",
          "text": [
            "DataLoaders: (<torch.utils.data.dataloader.DataLoader object at 0x783ff164bf70>, <torch.utils.data.dataloader.DataLoader object at 0x783ff1649840>)\n",
            "Length of train_dataloader: 1875 batches of 32\n",
            "Length of test_dataloader: 313 batches of 32\n"
          ]
        }
      ]
    },
    {
      "cell_type": "markdown",
      "source": [
        "### 4. Building a Convolutionary Neural Network (CNN)\n",
        "\n",
        "I will try to copy the architecture of this page: https://poloclub.github.io/cnn-explainer/ , also known as TinyVGG"
      ],
      "metadata": {
        "id": "P3M0e3altHmJ"
      }
    },
    {
      "cell_type": "code",
      "source": [
        "class MNISTModel(nn.Module):\n",
        "  def __init__(self, input_shape: int, hidden_units: int, output_shape: int):\n",
        "    super().__init__()\n",
        "    self.conv_block_1 = nn.Sequential(\n",
        "        nn.Conv2d(in_channels=input_shape,\n",
        "                  out_channels=hidden_units,\n",
        "                  kernel_size=3,\n",
        "                  stride=1,\n",
        "                  padding=1),\n",
        "        nn.ReLU(),\n",
        "        nn.Conv2d(in_channels=hidden_units,\n",
        "                  out_channels=hidden_units,\n",
        "                  kernel_size=3,\n",
        "                  stride=1,\n",
        "                  padding=1),\n",
        "        nn.ReLU(),\n",
        "        nn.MaxPool2d(kernel_size=2)\n",
        "    )\n",
        "    self.conv_block_2 = nn.Sequential(\n",
        "        nn.Conv2d(in_channels=hidden_units,\n",
        "                  out_channels=hidden_units,\n",
        "                  kernel_size=3,\n",
        "                  stride=1,\n",
        "                  padding=1),\n",
        "        nn.ReLU(),\n",
        "        nn.Conv2d(in_channels=hidden_units,\n",
        "                  out_channels=hidden_units,\n",
        "                  kernel_size=3,\n",
        "                  stride=1,\n",
        "                  padding=1),\n",
        "        nn.ReLU(),\n",
        "        nn.MaxPool2d(kernel_size=2)\n",
        "    )\n",
        "    self.classifier = nn.Sequential(\n",
        "        nn.Flatten(), # be careful! it flattens the output of conv_block_2, 
        "                      # so the output of conv_block_2 must be the same with the input of classifier\n",
        "        nn.Linear(in_features=hidden_units*7*7,\n",
        "                  out_features=output_shape)\n",
        "    )\n",
        "\n",
        "  def forward(self, x):\n",
        "    x = self.conv_block_1(x)\n",
        "    #print(f\"Output shape of conv_block_1: {x.shape}\")\n",
        "    x = self.conv_block_2(x)\n",
        "    #print(f\"Output shape of conv_block_1: {x.shape}\")\n",
        "    x = self.classifier(x)\n",
        "    #print(f\"Output shape of classifier: {x.shape}\")\n",
        "    return x\n"
      ],
      "metadata": {
        "id": "FEKrqLrKtd2e"
      },
      "execution_count": 17,
      "outputs": []
    },
    {
      "cell_type": "code",
      "source": [
        "# Create an instance of our model\n",
        "torch.manual_seed(42)\n",
        "model = MNISTModel(input_shape = 1, # equals to color channels\n",
        "                   hidden_units = 10,\n",
        "                   output_shape = len(test_data.classes)).to(device) # how many labels I want to have"
      ],
      "metadata": {
        "id": "vSwYr7Dzw-U2"
      },
      "execution_count": 18,
      "outputs": []
    },
    {
      "cell_type": "markdown",
      "source": [
        "### 5. Setup loss, optimizer and create an accuracy function"
      ],
      "metadata": {
        "id": "BPwr1kTKzCWR"
      }
    },
    {
      "cell_type": "code",
      "source": [
        "# loss function\n",
        "loss_fn = nn.CrossEntropyLoss()\n",
        "\n",
        "# Optimizer\n",
        "optimizer = torch.optim.SGD(params=model.parameters(),\n",
        "                            lr=0.1)"
      ],
      "metadata": {
        "id": "r1CXzs5sziVZ"
      },
      "execution_count": 19,
      "outputs": []
    },
    {
      "cell_type": "code",
      "source": [
        "def accuracy_fn(y_true, y_pred):\n",
        "    \"\"\"Calculates accuracy between truth labels and predictions.\n",
        "\n",
        "    Args:\n",
        "        y_true (torch.Tensor): Truth labels for predictions.\n",
        "        y_pred (torch.Tensor): Predictions to be compared to predictions.\n",
        "\n",
        "    Returns:\n",
        "        [torch.float]: Accuracy value between y_true and y_pred, e.g. 78.45\n",
        "    \"\"\"\n",
        "    correct = torch.eq(y_true, y_pred).sum().item()\n",
        "    acc = (correct / len(y_pred)) * 100\n",
        "    return acc"
      ],
      "metadata": {
        "id": "T9JjATpdErrP"
      },
      "execution_count": 20,
      "outputs": []
    },
    {
      "cell_type": "markdown",
      "source": [
        "### 6. Let's build our train and test loop"
      ],
      "metadata": {
        "id": "NiX7GAyuy8ES"
      }
    },
    {
      "cell_type": "code",
      "source": [
        "torch.manual_seed(42)\n",
        "\n",
        "# Set the epochs\n",
        "epochs = 3\n",
        "\n",
        "for epoch in tqdm(range(epochs)):\n",
        "  print(f\"Epoch:{epoch}\\n-----\")\n",
        "  ###Training\n",
        "  model.train()\n",
        "  train_loss = 0\n",
        "\n",
        "  # Add a loop to loop through the training batches\n",
        "  for (batch), (X, y) in  enumerate(train_dataloader):\n",
        "\n",
        "    # 1. Forward pass\n",
        "    y_pred = model(X)\n",
        "\n",
        "    # 2. Calculate the loss\n",
        "    loss = loss_fn(y_pred, y)\n",
        "    train_loss += loss\n",
        "\n",
        "    # 3. Optimizer zero grad\n",
        "    optimizer.zero_grad()\n",
        "\n",
        "    # 4. Loss backward\n",
        "    loss.backward()\n",
        "\n",
        "    # 5. Optimizer step - We updating our model's parameters once per batch rather than once per epoch\n",
        "    optimizer.step()\n",
        "\n",
        "    #Print out what's happenin\n",
        "    if batch % 400 == 0:\n",
        "      print(f\"Looked at {batch * len(X)}/{len(train_dataloader.dataset)} samples.\")\n",
        "\n",
        "  # Divide total train loss by length of train dataloader (we are in epoch loop)\n",
        "  train_loss /= len(train_dataloader) #Average train loss per batch\n",
        "\n",
        "\n",
        "  ### Testing\n",
        "  test_loss, test_acc = 0, 0\n",
        "  model.eval()\n",
        "  with torch.inference_mode():\n",
        "    for X_test, y_test in test_dataloader:\n",
        "\n",
        "      # 1.Forward pass\n",
        "      test_pred = model(X_test)\n",
        "\n",
        "      # 2. Calculate the loss\n",
        "      test_loss += loss_fn(test_pred, y_test)\n",
        "\n",
        "      # 3. Calculate the accuracy\n",
        "      test_acc += accuracy_fn(y_true=y_test,\n",
        "                              y_pred=test_pred.argmax(dim=1))\n",
        "\n",
        "    # Calculate the test loss average per batch\n",
        "    test_loss /= len(test_dataloader)\n",
        "\n",
        "    # Calculate test accuracy per batch\n",
        "    test_acc /= len(test_dataloader)\n",
        "\n",
        "  #Print out what's happening\n",
        "  print(f\"\\n Train loss: {train_loss:.4f} | Test loss: {test_loss:.4f}, Test acc: {test_acc:.4f}\")"
      ],
      "metadata": {
        "colab": {
          "base_uri": "https://localhost:8080/",
          "height": 517,
          "referenced_widgets": [
            "133127d4b65a461e86df18a412561993",
            "8024a180764c45a9a1c8e926154f4509",
            "3d2d1e873005487e82a27c6626c22945",
            "41eb6a0c07bb42aebf0860f33600f8a5",
            "ab1d9df10217447c8a23c08bf548945b",
            "607d9e739a5c4892915770053f20b5e8",
            "a1cb2157ef714d70929bec893159f69e",
            "b8ba6917411c4eaa8b0eb72396839047",
            "95e60726220948d7a5a9d603ff89d285",
            "8d05100a55fe4b34994072515f8a9a4f",
            "997bc4d4f22f4bb8acd3dbfd2d8b1929"
          ]
        },
        "id": "wYi5qj8az_HH",
        "outputId": "86015717-6a80-4108-9cf9-20f0d19e4f97"
      },
      "execution_count": 21,
      "outputs": [
        {
          "output_type": "display_data",
          "data": {
            "text/plain": [
              "  0%|          | 0/3 [00:00<?, ?it/s]"
            ],
            "application/vnd.jupyter.widget-view+json": {
              "version_major": 2,
              "version_minor": 0,
              "model_id": "133127d4b65a461e86df18a412561993"
            }
          },
          "metadata": {}
        },
        {
          "output_type": "stream",
          "name": "stdout",
          "text": [
            "Epoch:0\n",
            "-----\n",
            "Looked at 0/60000 samples.\n",
            "Looked at 12800/60000 samples.\n",
            "Looked at 25600/60000 samples.\n",
            "Looked at 38400/60000 samples.\n",
            "Looked at 51200/60000 samples.\n",
            "\n",
            " Train loss: 0.3356 | Test loss: 0.0736, Test acc: 97.7137\n",
            "Epoch:1\n",
            "-----\n",
            "Looked at 0/60000 samples.\n",
            "Looked at 12800/60000 samples.\n",
            "Looked at 25600/60000 samples.\n",
            "Looked at 38400/60000 samples.\n",
            "Looked at 51200/60000 samples.\n",
            "\n",
            " Train loss: 0.0822 | Test loss: 0.0660, Test acc: 97.9533\n",
            "Epoch:2\n",
            "-----\n",
            "Looked at 0/60000 samples.\n",
            "Looked at 12800/60000 samples.\n",
            "Looked at 25600/60000 samples.\n",
            "Looked at 38400/60000 samples.\n",
            "Looked at 51200/60000 samples.\n",
            "\n",
            " Train loss: 0.0644 | Test loss: 0.0595, Test acc: 98.0431\n"
          ]
        }
      ]
    },
    {
      "cell_type": "markdown",
      "source": [
        "### 7. Make and evaluate random predictions with our model"
      ],
      "metadata": {
        "id": "odiS6YChGgjI"
      }
    },
    {
      "cell_type": "code",
      "source": [
        "test_samples = []\n",
        "test_labels = []\n",
        "\n",
        "\n",
        "for sample, label in random.sample(list(test_data), k = 9):\n",
        "  test_samples.append(sample)\n",
        "  test_labels.append(label)\n",
        "\n",
        "\n",
        "# Make predictions\n",
        "pred_probs = []\n",
        "model.eval()\n",
        "\n",
        "with torch.inference_mode():\n",
        "  for sample in test_samples:\n",
        "    # Prepare the sample (add a batch dimension)\n",
        "    sample = torch.unsqueeze(sample, dim=0).to(device)\n",
        "\n",
        "    # Model's output logits\n",
        "    pred_logit = model(sample)\n",
        "\n",
        "    # Get prediction probability (logits -> prediction probability)\n",
        "    pred_prob = torch.softmax(pred_logit.squeeze(), dim=0)\n",
        "\n",
        "    # Get pred prob off the GPU for further calculations\n",
        "    pred_probs.append(pred_prob.cpu())\n",
        "\n",
        "  # Stack the pred probs to turn list into a tensor\n",
        "  pred_probs = torch.stack(pred_probs)\n",
        "\n",
        "  # Convert prediction probabilities into labels\n",
        "  pred_classes = pred_probs.argmax(dim=1)"
      ],
      "metadata": {
        "id": "W24Wydo3GqgT"
      },
      "execution_count": 52,
      "outputs": []
    },
    {
      "cell_type": "code",
      "source": [
        "# Plot predictions\n",
        "plt.figure(figsize=(9, 9))\n",
        "nrows = 3\n",
        "ncols = 3\n",
        "\n",
        "for i, sample in enumerate(test_samples):\n",
        "\n",
        "  # Create subplot\n",
        "  plt.subplot(nrows, ncols, i + 1)\n",
        "\n",
        "  # Plot the target image\n",
        "  plt.imshow(sample.squeeze(), cmap=\"gray\") # remove batch dimension\n",
        "\n",
        "  # Find the prediction (in text form)\n",
        "  pred_label = train_data.classes[pred_classes[i]]\n",
        "\n",
        "  # Get the truth label\n",
        "  truth_label = train_data.classes[test_labels[i]]\n",
        "\n",
        "  # Create a title for the plot\n",
        "  title_text = f\"Pred: {pred_label} | Truth: {truth_label}\"\n",
        "\n",
        "  # Check for equality between truth or pred and change the color\n",
        "  if pred_label == truth_label:\n",
        "    plt.title(title_text, fontsize=10, c=\"g\") # green text if we have a correct prediction\n",
        "  else:\n",
        "    plt.title(title_text, fontsize=10, c=\"r\")\n",
        "\n",
        "  plt.axis(False);\n"
      ],
      "metadata": {
        "colab": {
          "base_uri": "https://localhost:8080/",
          "height": 749
        },
        "id": "dCp4EYlmKNAp",
        "outputId": "ee35a3d4-d70b-4e2a-8bde-a88c3dc348c6"
      },
      "execution_count": 53,
      "outputs": [
        {
          "output_type": "display_data",
          "data": {
            "text/plain": [
              "<Figure size 900x900 with 9 Axes>"
            ],
            "image/png": "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\n"
          },
          "metadata": {}
        }
      ]
    }
  ]
}
